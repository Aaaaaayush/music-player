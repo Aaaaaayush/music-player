{
 "cells": [
  {
   "cell_type": "code",
   "execution_count": null,
   "id": "85b7a3c2",
   "metadata": {},
   "outputs": [
    {
     "name": "stdout",
     "output_type": "stream",
     "text": [
      "pygame 2.1.2 (SDL 2.0.18, Python 3.9.12)\n",
      "Hello from the pygame community. https://www.pygame.org/contribute.html\n"
     ]
    }
   ],
   "source": [
    "import PySimpleGUI as sg\n",
    " \n",
    "import base64\n",
    "from io import BytesIO\n",
    "from PIL import Image\n",
    " \n",
    "from pygame import mixer, time\n",
    "mixer.init()\n",
    "clock = time.Clock()\n",
    " \n",
    "def base64_image_import(path):\n",
    "    image = Image.open(path)\n",
    "    buffer = BytesIO()\n",
    "    image.save(buffer, format = 'PNG')\n",
    "    b64 = base64.b64encode(buffer.getvalue())\n",
    "    return b64\n",
    " \n",
    "# import song \n",
    "path = sg.popup_get_file('Open', no_window = True)\n",
    "song_name = path.split('/')[-1].split('.')[0]\n",
    "song = mixer.Sound(path)\n",
    " \n",
    "# timer \n",
    "song_length = int(song.get_length())\n",
    "time_since_start = 0\n",
    "pause_amount = 0\n",
    "playing = False\n",
    " \n",
    "sg.theme('reddit')\n",
    " \n",
    "play_layout = [\n",
    "    [sg.VPush()],\n",
    "    [sg.Push(),sg.Text(song_name, font = 'Arial 20'),sg.Push()],\n",
    "    [sg.VPush()],\n",
    "    [\n",
    "        sg.Push(),\n",
    "        sg.Button(image_data = base64_image_import('play.png'),key = '-PLAY-' ,button_color = 'white', border_width = 0),\n",
    "        sg.Text(' '),\n",
    "        sg.Button(image_data = base64_image_import('pause.png'),key = '-PAUSE-' ,button_color = 'white', border_width = 0),\n",
    "        sg.Push()\n",
    "    ],\n",
    "    [sg.VPush()],\n",
    "    [sg.Progress(song_length, size = (20,20), key = '-PROGRESS-')]\n",
    "]\n",
    "volume_layout = [\n",
    "    [sg.VPush()],\n",
    "    [sg.Push(),sg.Slider(range = (0, 100), default_value = 100, orientation = 'h', key = '-VOLUME-'),sg.Push()],\n",
    "    [sg.VPush()],\n",
    "]\n",
    " \n",
    "layout = [\n",
    "    [sg.TabGroup([[sg.Tab('Play',play_layout),sg.Tab('Volume',volume_layout)]])]\n",
    "]\n",
    " \n",
    "window = sg.Window('Music Player',layout)\n",
    " \n",
    "while True:\n",
    "    event, values = window.read(timeout = 1)\n",
    "    if event == sg.WIN_CLOSED:\n",
    "        break\n",
    " \n",
    "    if playing:\n",
    "        time_since_start = time.get_ticks()\n",
    "        window['-PROGRESS-'].update((time_since_start - pause_amount) // 1000)\n",
    " \n",
    "    if event == '-PLAY-':\n",
    "        playing = True\n",
    "        pause_amount += time.get_ticks() - time_since_start\n",
    "        if mixer.get_busy() == False:\n",
    "            song.play()\n",
    "        else:\n",
    "            mixer.unpause()\n",
    " \n",
    "    if event == '-PAUSE-':\n",
    "        playing = False\n",
    "        mixer.pause()\n",
    "    song.set_volume(values['-VOLUME-'] / 100)\n",
    "window.close()"
   ]
  },
  {
   "cell_type": "code",
   "execution_count": null,
   "id": "b43f1f06",
   "metadata": {},
   "outputs": [],
   "source": []
  }
 ],
 "metadata": {
  "kernelspec": {
   "display_name": "Python 3 (ipykernel)",
   "language": "python",
   "name": "python3"
  },
  "language_info": {
   "codemirror_mode": {
    "name": "ipython",
    "version": 3
   },
   "file_extension": ".py",
   "mimetype": "text/x-python",
   "name": "python",
   "nbconvert_exporter": "python",
   "pygments_lexer": "ipython3",
   "version": "3.9.12"
  }
 },
 "nbformat": 4,
 "nbformat_minor": 5
}
